{
 "cells": [
  {
   "cell_type": "code",
   "execution_count": null,
   "id": "e5baeceb",
   "metadata": {},
   "outputs": [],
   "source": []
  },
  {
   "cell_type": "code",
   "execution_count": 4,
   "id": "59e27c3a",
   "metadata": {},
   "outputs": [
    {
     "name": "stdout",
     "output_type": "stream",
     "text": [
      "open 9-5 daily\n"
     ]
    }
   ],
   "source": [
    "import zoo\n",
    "\n",
    "zoo.hours()"
   ]
  },
  {
   "cell_type": "code",
   "execution_count": 5,
   "id": "d0d59f47",
   "metadata": {},
   "outputs": [],
   "source": [
    "from zoo import hours as menagerie"
   ]
  },
  {
   "cell_type": "code",
   "execution_count": 6,
   "id": "bd8840ac",
   "metadata": {},
   "outputs": [
    {
     "name": "stdout",
     "output_type": "stream",
     "text": [
      "open 9-5 daily\n"
     ]
    }
   ],
   "source": [
    "menagerie()"
   ]
  },
  {
   "cell_type": "code",
   "execution_count": 7,
   "id": "5f3c1c6c",
   "metadata": {},
   "outputs": [],
   "source": [
    "import csv"
   ]
  },
  {
   "cell_type": "code",
   "execution_count": 12,
   "id": "aa10d32b",
   "metadata": {},
   "outputs": [],
   "source": [
    "books = [[' Author ',' Book '],\n",
    "        [' J R R Tolkien ',' The Hobbit'],\n",
    "        [' Lynne Truss ',\"Eats, Shoots & Leaves\"],\n",
    "        ]"
   ]
  },
  {
   "cell_type": "code",
   "execution_count": 14,
   "id": "68a6fdb0",
   "metadata": {},
   "outputs": [],
   "source": [
    "with open('books', 'wt') as fout:\n",
    "    csvout = csv.writer(fout)\n",
    "    csvout.writerows(books)"
   ]
  },
  {
   "cell_type": "code",
   "execution_count": 15,
   "id": "c23f451e",
   "metadata": {},
   "outputs": [],
   "source": [
    "import csv"
   ]
  },
  {
   "cell_type": "code",
   "execution_count": 18,
   "id": "3106eb95",
   "metadata": {},
   "outputs": [],
   "source": [
    "with open ('books', 'rt') as fin:\n",
    "    cin = csv.reader(fin)\n",
    "    books = [row for row in cin]"
   ]
  },
  {
   "cell_type": "code",
   "execution_count": 19,
   "id": "75fd0df5",
   "metadata": {},
   "outputs": [
    {
     "name": "stdout",
     "output_type": "stream",
     "text": [
      "[['Author', 'Book'], [], ['J R R Tolkien', 'The Hobbit'], [], ['Lynne Truss', 'Eats, Shoots & Leaves'], []]\n"
     ]
    }
   ],
   "source": [
    "print(books)"
   ]
  },
  {
   "cell_type": "code",
   "execution_count": null,
   "id": "b11457fe",
   "metadata": {},
   "outputs": [],
   "source": []
  }
 ],
 "metadata": {
  "kernelspec": {
   "display_name": "Python 3 (ipykernel)",
   "language": "python",
   "name": "python3"
  },
  "language_info": {
   "codemirror_mode": {
    "name": "ipython",
    "version": 3
   },
   "file_extension": ".py",
   "mimetype": "text/x-python",
   "name": "python",
   "nbconvert_exporter": "python",
   "pygments_lexer": "ipython3",
   "version": "3.9.13"
  }
 },
 "nbformat": 4,
 "nbformat_minor": 5
}
