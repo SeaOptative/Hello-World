{
 "cells": [
  {
   "cell_type": "code",
   "execution_count": 8,
   "id": "4556e151",
   "metadata": {},
   "outputs": [],
   "source": [
    "secret = 9"
   ]
  },
  {
   "cell_type": "code",
   "execution_count": 11,
   "id": "f5afe816",
   "metadata": {},
   "outputs": [],
   "source": [
    "guess = 10"
   ]
  },
  {
   "cell_type": "code",
   "execution_count": 12,
   "id": "0b416991",
   "metadata": {},
   "outputs": [
    {
     "name": "stdout",
     "output_type": "stream",
     "text": [
      "too high\n"
     ]
    }
   ],
   "source": [
    "if (guess < secret):\n",
    "    print (\"too low\")\n",
    "elif(guess > secret):\n",
    "    print (\"too high\")\n",
    "else:\n",
    "    print (\"just right\")"
   ]
  },
  {
   "cell_type": "code",
   "execution_count": 18,
   "id": "5f115007",
   "metadata": {},
   "outputs": [],
   "source": [
    "green = True"
   ]
  },
  {
   "cell_type": "code",
   "execution_count": 21,
   "id": "2fda0e48",
   "metadata": {},
   "outputs": [],
   "source": [
    "small = False"
   ]
  },
  {
   "cell_type": "code",
   "execution_count": 23,
   "id": "fb6c9409",
   "metadata": {},
   "outputs": [
    {
     "name": "stdout",
     "output_type": "stream",
     "text": [
      "Watermelon\n"
     ]
    }
   ],
   "source": [
    "if small and not green:\n",
    "    print (\"Cherry\")\n",
    "elif small and green:\n",
    "    print (\"Pea\")\n",
    "elif not small and green:\n",
    "    print (\"Watermelon\")\n",
    "elif not small and not green:\n",
    "    print (\"Pumpkin\")\n",
    "else:\n",
    "    print (\"Unknown\")"
   ]
  },
  {
   "cell_type": "code",
   "execution_count": 24,
   "id": "2611b45c",
   "metadata": {},
   "outputs": [],
   "source": [
    "list = [3,2,1,0]"
   ]
  },
  {
   "cell_type": "code",
   "execution_count": 26,
   "id": "20af8848",
   "metadata": {},
   "outputs": [
    {
     "name": "stdout",
     "output_type": "stream",
     "text": [
      "3\n",
      "2\n",
      "1\n",
      "0\n"
     ]
    }
   ],
   "source": [
    "for numbers in list:\n",
    "    print (numbers)"
   ]
  },
  {
   "cell_type": "code",
   "execution_count": 35,
   "id": "98c51cb2",
   "metadata": {},
   "outputs": [],
   "source": [
    "guess_me =7"
   ]
  },
  {
   "cell_type": "code",
   "execution_count": 41,
   "id": "053e81f1",
   "metadata": {},
   "outputs": [],
   "source": [
    "number = 1"
   ]
  },
  {
   "cell_type": "code",
   "execution_count": 42,
   "id": "17807a74",
   "metadata": {},
   "outputs": [
    {
     "name": "stdout",
     "output_type": "stream",
     "text": [
      "too low\n",
      "too low\n",
      "too low\n",
      "too low\n",
      "too low\n",
      "too low\n",
      "found it\n"
     ]
    }
   ],
   "source": [
    "while True:\n",
    "    if number < guess_me:\n",
    "        print (\"too low\")\n",
    "    elif number > guess_me:\n",
    "        print (\"oops\")\n",
    "        break\n",
    "    else:\n",
    "        print (\"found it\")\n",
    "        break\n",
    "    number += 1"
   ]
  },
  {
   "cell_type": "code",
   "execution_count": 43,
   "id": "cca159cb",
   "metadata": {},
   "outputs": [],
   "source": [
    "guess_me = 5"
   ]
  },
  {
   "cell_type": "code",
   "execution_count": 44,
   "id": "0845d558",
   "metadata": {},
   "outputs": [
    {
     "name": "stdout",
     "output_type": "stream",
     "text": [
      "too low\n",
      "too low\n",
      "too low\n",
      "too low\n",
      "too low\n",
      "found it\n"
     ]
    }
   ],
   "source": [
    "for number in range(10):\n",
    "    if number < guess_me:\n",
    "        print (\"too low\")\n",
    "    elif number > guess_me:\n",
    "        print (\"oops\")\n",
    "        break\n",
    "    else:\n",
    "        print (\"found it\")\n",
    "        break"
   ]
  },
  {
   "cell_type": "code",
   "execution_count": null,
   "id": "8b68ab46",
   "metadata": {},
   "outputs": [],
   "source": []
  }
 ],
 "metadata": {
  "kernelspec": {
   "display_name": "Python 3 (ipykernel)",
   "language": "python",
   "name": "python3"
  },
  "language_info": {
   "codemirror_mode": {
    "name": "ipython",
    "version": 3
   },
   "file_extension": ".py",
   "mimetype": "text/x-python",
   "name": "python",
   "nbconvert_exporter": "python",
   "pygments_lexer": "ipython3",
   "version": "3.9.13"
  }
 },
 "nbformat": 4,
 "nbformat_minor": 5
}
