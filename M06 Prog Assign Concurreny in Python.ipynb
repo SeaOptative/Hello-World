{
 "cells": [
  {
   "cell_type": "code",
   "execution_count": 1,
   "id": "4a3118cd",
   "metadata": {},
   "outputs": [],
   "source": [
    "import datetime\n",
    "today = datetime.date.today()\n",
    "txt_file = open('today.txt','w')\n",
    "txt_file.write(str(today))\n",
    "txt_file.close()"
   ]
  },
  {
   "cell_type": "code",
   "execution_count": 2,
   "id": "8dd00308",
   "metadata": {},
   "outputs": [],
   "source": [
    "txt_file = open('today.txt', 'r')\n",
    "today_string = txt_file.read()\n",
    "txt_file.close()"
   ]
  },
  {
   "cell_type": "code",
   "execution_count": 3,
   "id": "65263c8b",
   "metadata": {},
   "outputs": [
    {
     "data": {
      "text/plain": [
       "'2023-04-26'"
      ]
     },
     "execution_count": 3,
     "metadata": {},
     "output_type": "execute_result"
    }
   ],
   "source": [
    "today_string"
   ]
  },
  {
   "cell_type": "code",
   "execution_count": 11,
   "id": "c5c7cf07",
   "metadata": {},
   "outputs": [
    {
     "name": "stdout",
     "output_type": "stream",
     "text": [
      "Todays date is 2023-04-26\n"
     ]
    }
   ],
   "source": [
    "date = datetime.datetime.strptime(today_string, '%Y-%m-%d').date()\n",
    "print('Todays date is', date)"
   ]
  },
  {
   "cell_type": "code",
   "execution_count": 19,
   "id": "0953f084",
   "metadata": {},
   "outputs": [
    {
     "name": "stdout",
     "output_type": "stream",
     "text": [
      "Today's date and current time is 2023-04-26 19:43:36.172184\n",
      "Today's date and current time is 2023-04-26 19:43:37.184092\n",
      "Today's date and current time is 2023-04-26 19:43:38.193940\n"
     ]
    }
   ],
   "source": [
    "import multiprocessing\n",
    "from datetime import datetime\n",
    "import time\n",
    "import random\n",
    "\n",
    "\n",
    "def print_time():\n",
    "    now = datetime.now()\n",
    "    print(\"Today's date and current time is {}\".format(now))\n",
    "    time.sleep(1)\n",
    "\n",
    "\n",
    "if __name__ == '__main__':\n",
    "    p1 = multiprocessing.Process(target=print_time())\n",
    "    p2 = multiprocessing.Process(target=print_time())\n",
    "    p3 = multiprocessing.Process(target=print_time())\n",
    "    p1.start()\n",
    "    p2.start()\n",
    "    p3.start()\n",
    "    p1.join()\n",
    "    p2.join()\n",
    "    p3.join()"
   ]
  },
  {
   "cell_type": "code",
   "execution_count": null,
   "id": "2f9c0855",
   "metadata": {},
   "outputs": [],
   "source": []
  }
 ],
 "metadata": {
  "kernelspec": {
   "display_name": "Python 3 (ipykernel)",
   "language": "python",
   "name": "python3"
  },
  "language_info": {
   "codemirror_mode": {
    "name": "ipython",
    "version": 3
   },
   "file_extension": ".py",
   "mimetype": "text/x-python",
   "name": "python",
   "nbconvert_exporter": "python",
   "pygments_lexer": "ipython3",
   "version": "3.9.13"
  }
 },
 "nbformat": 4,
 "nbformat_minor": 5
}
