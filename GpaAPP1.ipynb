{
 "cells": [
  {
   "cell_type": "code",
   "execution_count": 1,
   "id": "61b58ca0",
   "metadata": {},
   "outputs": [
    {
     "name": "stdout",
     "output_type": "stream",
     "text": [
      "Welcome to the GPA App \n",
      "Enter 'zzz' in the lastname textbox to end the program\n",
      "***********************************\n",
      "Enter student's Last Name: Emily\n",
      "Enter Student's First Name: Gill\n",
      "Enter Student's GPA: 3.2\n",
      "Gill Emily  made the Honor Roll. \n",
      "\n",
      "Enter Student's Last Name: Tom\n",
      "Enter Student's First Name: Pit\n",
      "Enter Student's GPA: 3.6\n",
      "Pit Tom  made the Dean's List. \n",
      "\n",
      "Enter Student's Last Name: Prat\n",
      "Enter Student's First Name: Tom\n",
      "Enter Student's GPA: 3.25\n",
      "Tom Prat  made the Honor Roll. \n",
      "\n",
      "Enter Student's Last Name: Chad\n",
      "Enter Student's First Name: Elizabeth\n",
      "Enter Student's GPA: 3.8\n",
      "Elizabeth Chad  made the Dean's List. \n",
      "\n",
      "Enter Student's Last Name: Wood\n",
      "Enter Student's First Name: Angel\n",
      "Enter Student's GPA: 3.1\n",
      "Angel Wood  made the Honor Roll. \n",
      "\n",
      "Enter Student's Last Name: Wood\n",
      "Enter Student's First Name: Sam\n",
      "Enter Student's GPA: 4.0\n",
      "Sam Wood  made the Dean's List. \n",
      "\n",
      "Enter Student's Last Name: zzz\n"
     ]
    }
   ],
   "source": [
    "#Emmanuel Adebanjo\n",
    "#GpaApp.py\n",
    "#This program accepts a student's firstname, lastname & GPA. It tests if a student made the Dean's list or Honor Roll\n",
    "\n",
    "print (\"Welcome to the GPA App \")\n",
    "print (\"Enter 'zzz' in the lastname textbox to end the program\")\n",
    "print (\"***********************************\")\n",
    "\n",
    "lastname = input (\"Enter student's Last Name: \")\n",
    "while lastname != \"zzz\":\n",
    "    firstname = input (\"Enter Student's First Name: \")\n",
    "    GPA = float(input(\"Enter Student's GPA: \"))\n",
    "    if GPA >= 3.5:\n",
    "        print  ( firstname, lastname, \" made the Dean's List. \")\n",
    "    else :\n",
    "        if GPA <= 3.25:\n",
    "            print (firstname, lastname, \" made the Honor Roll. \")\n",
    "    lastname = input (\"\\nEnter Student's Last Name: \")"
   ]
  },
  {
   "cell_type": "code",
   "execution_count": null,
   "id": "ed35a37a",
   "metadata": {},
   "outputs": [],
   "source": []
  },
  {
   "cell_type": "code",
   "execution_count": null,
   "id": "b5c9f0cd",
   "metadata": {},
   "outputs": [],
   "source": []
  }
 ],
 "metadata": {
  "kernelspec": {
   "display_name": "Python 3 (ipykernel)",
   "language": "python",
   "name": "python3"
  },
  "language_info": {
   "codemirror_mode": {
    "name": "ipython",
    "version": 3
   },
   "file_extension": ".py",
   "mimetype": "text/x-python",
   "name": "python",
   "nbconvert_exporter": "python",
   "pygments_lexer": "ipython3",
   "version": "3.9.13"
  }
 },
 "nbformat": 4,
 "nbformat_minor": 5
}
