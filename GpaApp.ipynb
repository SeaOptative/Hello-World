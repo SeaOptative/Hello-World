{
 "cells": [
  {
   "cell_type": "code",
   "execution_count": 2,
   "id": "b13f0111",
   "metadata": {},
   "outputs": [
    {
     "name": "stdout",
     "output_type": "stream",
     "text": [
      "Welcome to the GPA App \n",
      "Enter 'zzz' in the lastname textbox to end the program\n",
      "***********************************\n",
      "Enter student Last Name: Emily\n",
      "Enter Student First Name: Gill\n",
      "Enter Student's GPS: 3.2\n",
      "Gill Emily has made the Honor Roll. \n",
      "\n",
      "Enter Student Last Name: Sowell\n",
      "Enter Student First Name: Nicole\n",
      "Enter Student's GPS: 3.6\n",
      "Nicole Sowell has made the Dean's List. \n",
      "\n",
      "Enter Student Last Name: Prat\n",
      "Enter Student First Name: Tom\n",
      "Enter Student's GPS: 3.25\n",
      "Tom Prat has made the Honor Roll. \n",
      "\n",
      "Enter Student Last Name: Wood\n",
      "Enter Student First Name: Angel\n",
      "Enter Student's GPS: 3.1\n",
      "Angel Wood has made the Honor Roll. \n",
      "\n",
      "Enter Student Last Name: Chad\n",
      "Enter Student First Name: Elizabeth\n",
      "Enter Student's GPS: 3.8\n",
      "Elizabeth Chad has made the Dean's List. \n",
      "\n",
      "Enter Student Last Name: zzz\n"
     ]
    }
   ],
   "source": [
    "#Emmanuel Adebanjo\n",
    "#GpaApp.py\n",
    "#This program accepts a student's firstname, lastname & GPA. It tests if a student made the Dean's list or Honor Roll\n",
    "\n",
    "print (\"Welcome to the GPA App \")\n",
    "print (\"Enter 'zzz' in the lastname textbox to end the program\")\n",
    "print (\"***********************************\")\n",
    "\n",
    "lastname = input (\"Enter student Last Name: \")\n",
    "while lastname != \"zzz\":\n",
    "    firstname = input (\"Enter Student First Name: \")\n",
    "    GPA = float(input(\"Enter Student's GPS: \"))\n",
    "    if GPA >= 3.5:\n",
    "        print  ( firstname, lastname, \"has made the Dean's List. \")\n",
    "    else :\n",
    "        if GPA <= 3.25:\n",
    "            print (firstname, lastname, \"has made the Honor Roll. \")\n",
    "    lastname = input (\"\\nEnter Student Last Name: \")"
   ]
  },
  {
   "cell_type": "code",
   "execution_count": null,
   "id": "2f4c9527",
   "metadata": {},
   "outputs": [],
   "source": []
  },
  {
   "cell_type": "code",
   "execution_count": null,
   "id": "da455198",
   "metadata": {},
   "outputs": [],
   "source": []
  }
 ],
 "metadata": {
  "kernelspec": {
   "display_name": "Python 3 (ipykernel)",
   "language": "python",
   "name": "python3"
  },
  "language_info": {
   "codemirror_mode": {
    "name": "ipython",
    "version": 3
   },
   "file_extension": ".py",
   "mimetype": "text/x-python",
   "name": "python",
   "nbconvert_exporter": "python",
   "pygments_lexer": "ipython3",
   "version": "3.9.13"
  }
 },
 "nbformat": 4,
 "nbformat_minor": 5
}
